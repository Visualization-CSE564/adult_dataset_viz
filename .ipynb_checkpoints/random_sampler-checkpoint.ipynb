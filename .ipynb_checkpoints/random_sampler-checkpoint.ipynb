{
 "cells": [
  {
   "cell_type": "code",
   "execution_count": 37,
   "metadata": {},
   "outputs": [],
   "source": [
    "import pandas as pd\n",
    "import numpy as np\n",
    "import math"
   ]
  },
  {
   "cell_type": "code",
   "execution_count": 38,
   "metadata": {},
   "outputs": [],
   "source": [
    "full_data = pd.read_csv('static/data/adult.csv')\n",
    "l = full_data.shape[0]\n",
    "idx = list(range(1,l+1))\n",
    "full_data.insert(0, \"idx\", idx, True)"
   ]
  },
  {
   "cell_type": "code",
   "execution_count": 57,
   "metadata": {},
   "outputs": [],
   "source": [
    "def random_sample(df):\n",
    "    sample_indicator = np.random.binomial(1, 0.01, df.shape[0])\n",
    "    return df[sample_indicator==1]"
   ]
  },
  {
   "cell_type": "code",
   "execution_count": 58,
   "metadata": {},
   "outputs": [],
   "source": [
    "occupations_list = full_data['occupation'].unique().tolist()\n",
    "marital_list = full_data['marital_status'].unique().tolist()\n",
    "random_df = pd.DataFrame(columns = full_data.columns.tolist())\n",
    "for o in occupations_list:\n",
    "    df = full_data[full_data['occupation'] == o]\n",
    "    r_df = random_sample(df)\n",
    "#     print(r_df.columns,random_df.columns)\n",
    "    random_df = pd.concat([r_df,random_df], ignore_index=True)\n",
    "for m in marital_list:\n",
    "    df = full_data[full_data['marital_status'] == m]\n",
    "    r_df = random_sample(df)\n",
    "    random_df = pd.concat([random_df,r_df])\n",
    "random_df = random_df.drop_duplicates()"
   ]
  },
  {
   "cell_type": "code",
   "execution_count": 61,
   "metadata": {},
   "outputs": [],
   "source": [
    "random_df.to_csv('static/data/r_adult.csv')"
   ]
  },
  {
   "cell_type": "code",
   "execution_count": 59,
   "metadata": {},
   "outputs": [
    {
     "data": {
      "text/plain": [
       "(625, 16)"
      ]
     },
     "execution_count": 59,
     "metadata": {},
     "output_type": "execute_result"
    }
   ],
   "source": [
    "random_df.shape"
   ]
  },
  {
   "cell_type": "code",
   "execution_count": null,
   "metadata": {},
   "outputs": [],
   "source": []
  }
 ],
 "metadata": {
  "kernelspec": {
   "display_name": "Python 3",
   "language": "python",
   "name": "python3"
  },
  "language_info": {
   "codemirror_mode": {
    "name": "ipython",
    "version": 3
   },
   "file_extension": ".py",
   "mimetype": "text/x-python",
   "name": "python",
   "nbconvert_exporter": "python",
   "pygments_lexer": "ipython3",
   "version": "3.7.1"
  }
 },
 "nbformat": 4,
 "nbformat_minor": 2
}
